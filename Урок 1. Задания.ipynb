{
 "cells": [
  {
   "cell_type": "markdown",
   "id": "226f5885-4170-461e-92b8-4e240a032473",
   "metadata": {},
   "source": [
    "# Практическая часть"
   ]
  },
  {
   "attachments": {},
   "cell_type": "markdown",
   "id": "fd2d8702-13b9-4c1e-8d0f-ce6acc3c05a1",
   "metadata": {},
   "source": [
    "**! После выполнения каждого задания делайте скрины скриптов и результатов**"
   ]
  },
  {
   "cell_type": "markdown",
   "id": "7fa5cf6c-c46d-4870-b224-252269ed58c2",
   "metadata": {},
   "source": [
    "## Задание 1"
   ]
  },
  {
   "cell_type": "markdown",
   "id": "fa018dee-1586-409f-978b-7d3d0d055ec3",
   "metadata": {},
   "source": [
    "Напишите скрипт, который выведет в консоль приветственное сообщение. Для этого используйте функцию *print()*. Пример использования отображён в разделе *Функции для работы в GEE* ниже. "
   ]
  },
  {
   "cell_type": "markdown",
   "id": "46944ef7-335a-4463-8274-980fa16bb6c9",
   "metadata": {},
   "source": [
    "## Задание 2"
   ]
  },
  {
   "cell_type": "markdown",
   "id": "505808ab-39a7-40df-bf2c-5aa09bd1313f",
   "metadata": {},
   "source": [
    "Напишите код, который выполняет простые математические операции (сложение, вычитание, умножение, деление) и выводит результаты в консоль.\n",
    "\n",
    "Пример:"
   ]
  },
  {
   "cell_type": "raw",
   "id": "eb97a45c-76b3-48ed-b5b8-12ffd0e499bf",
   "metadata": {},
   "source": [
    "// Выполняем математические операции\n",
    "var sum = 5 + 10;\n",
    "var difference = 15 - 3;\n",
    "var product = 4 * 7;\n",
    "var quotient = 20 / 4;\n",
    "\n",
    "// Выводим результаты в консоль\n",
    "print('Сумма:', sum);\n",
    "print('Разность:', difference);\n",
    "print('Произведение:', product);\n",
    "print('Частное:', quotient);"
   ]
  },
  {
   "cell_type": "markdown",
   "id": "47638325-1206-414a-8941-dfb55ebb31ec",
   "metadata": {},
   "source": [
    "Измените числа в каждой операции и посмотрите, как меняются результаты."
   ]
  },
  {
   "cell_type": "markdown",
   "id": "18c899bf-3f20-4c29-ac2c-08548c4fcba7",
   "metadata": {},
   "source": [
    "## Задание 3"
   ]
  },
  {
   "cell_type": "markdown",
   "id": "aabaad8f-7d84-4651-9b16-ecc363ddfdb9",
   "metadata": {},
   "source": [
    "Объявите переменные для хранения широты и долготы вашего города. Используйте функцию Map.setCenter() для центрации карты на этих координатах.\n",
    "\n",
    "Пример:"
   ]
  },
  {
   "cell_type": "raw",
   "id": "80a743f9-6e54-460f-ade6-9beb6c4ccf09",
   "metadata": {},
   "source": [
    "// Объявляем переменные\n",
    "var latitude = 55.751244;  // Широта Москвы\n",
    "var longitude = 37.618423; // Долгота Москвы\n",
    "var zoomLevel = 10;        // Уровень увеличения карты\n",
    "\n",
    "// Центрируем карту\n",
    "Map.setCenter(longitude, latitude, zoomLevel);"
   ]
  },
  {
   "cell_type": "markdown",
   "id": "d9edddc0-b8f3-4c9c-aa24-170ee520fff8",
   "metadata": {},
   "source": [
    "## Задание 4"
   ]
  },
  {
   "cell_type": "markdown",
   "id": "56342df9-3535-4fc2-b55a-28bc971efc05",
   "metadata": {},
   "source": [
    "Напишите скрипт, который проверяет, является ли число положительным или отрицательным, и выводит соответствующее сообщение.\n",
    "\n",
    "Пример: "
   ]
  },
  {
   "cell_type": "raw",
   "id": "d46710bc-6955-4106-a7ee-a41edd8b18ea",
   "metadata": {},
   "source": [
    "// Задаем число\n",
    "var number = -10;\n",
    "\n",
    "// Проверяем, положительное оно или отрицательное\n",
    "if (number > 0) {\n",
    "  print('Число положительное');\n",
    "} else if (number < 0) {\n",
    "  print('Число отрицательное');\n",
    "} else {\n",
    "  print('Число равно нулю');\n",
    "}"
   ]
  },
  {
   "cell_type": "markdown",
   "id": "7c9e9741-55a9-4ef7-b198-f5018b0e990f",
   "metadata": {},
   "source": [
    "## Задание 5"
   ]
  },
  {
   "cell_type": "markdown",
   "id": "cbb5d654-ecc2-4111-b6ca-df9d5f5206d8",
   "metadata": {},
   "source": [
    "Создайте массив с тремя названиями стран и выведите каждое из них в консоль.\n",
    "\n",
    "Пример:"
   ]
  },
  {
   "cell_type": "raw",
   "id": "f7f93206-e127-4049-b45e-e8d2aca6035a",
   "metadata": {},
   "source": [
    "// Создаем массив\n",
    "var countries = ['Россия', 'Канада', 'Бразилия'];\n",
    "\n",
    "// Выводим каждую страну по отдельности\n",
    "print('Первая страна:', countries[0]);\n",
    "print('Вторая страна:', countries[1]);\n",
    "print('Третья страна:', countries[2]);"
   ]
  },
  {
   "cell_type": "markdown",
   "id": "09b452fe-0c37-4259-87b3-3f4a6e355553",
   "metadata": {},
   "source": [
    "## Задание 6"
   ]
  },
  {
   "cell_type": "markdown",
   "id": "395e4e40-a0d9-44b0-9963-84e28ee76f32",
   "metadata": {},
   "source": [
    "1. Создайте шейп файл на компьютере. Он должен отображать территорию вашего научного интереса: месторождение/город/регион\n",
    "2. Добавьте этот шейп в ваш проект через *Assets→New→Shape files→Select→Upload*\n",
    "3. После загрузки шейпа в проект добавьте его на карту, нажав на стрелочку рядом с шейпом\n",
    "4. Добавьте на свою карту любой космический снимок за это лето. Для отображения можете использовать примеры из описания датасетов. Снимок должен быть малооблачным, снимок должен полностью закрывать вашу область интересов. "
   ]
  },
  {
   "cell_type": "markdown",
   "id": "24b9e03e-8236-4d1d-b900-9ef2308cd7b1",
   "metadata": {},
   "source": [
    "Подсказка: для фильтрации снимков по территории можно воспользоваться функциями *filterBounds()*, *mean()*, *median()*. Или поискать готовые скрипты в Examples. \n"
   ]
  }
 ],
 "metadata": {
  "kernelspec": {
   "display_name": "Python 3 (ipykernel)",
   "language": "python",
   "name": "python3"
  },
  "language_info": {
   "codemirror_mode": {
    "name": "ipython",
    "version": 3
   },
   "file_extension": ".py",
   "mimetype": "text/x-python",
   "name": "python",
   "nbconvert_exporter": "python",
   "pygments_lexer": "ipython3",
   "version": "3.13.0"
  }
 },
 "nbformat": 4,
 "nbformat_minor": 5
}
