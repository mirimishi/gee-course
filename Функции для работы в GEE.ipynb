{
 "cells": [
  {
   "cell_type": "markdown",
   "id": "d32b093c-85f5-49d1-bd5e-13830fba848c",
   "metadata": {},
   "source": [
    "Функция"
   ]
  },
  {
   "cell_type": "code",
   "execution_count": null,
   "id": "d81649cc-405c-4aec-8150-4849f9b7f87b",
   "metadata": {},
   "outputs": [],
   "source": [
    "print()"
   ]
  },
  {
   "cell_type": "markdown",
   "id": "d004931d-c984-40f1-bc66-c29f4e4ed76b",
   "metadata": {},
   "source": [
    "Назначение: Вывод информации в консоль.\\\n",
    "Описание: В GEE *print()* используется для вывода информации в консоль, что помогает проверять результаты и отлаживать код. Это особенно полезно для просмотра промежуточных данных или конечных результатов.\\\n",
    "Пример:"
   ]
  },
  {
   "cell_type": "code",
   "execution_count": null,
   "id": "530bf274-5103-4a8b-b6b1-8af8d563f98b",
   "metadata": {},
   "outputs": [],
   "source": [
    "print('Привет, GEE!'); // Выводит текст \"Привет, GEE!\" в консоль"
   ]
  },
  {
   "cell_type": "markdown",
   "id": "1701ec2f-c9c4-4886-9552-7e992539a552",
   "metadata": {},
   "source": [
    "Функция"
   ]
  },
  {
   "cell_type": "code",
   "execution_count": null,
   "id": "62f87b53-f09c-44c0-aa03-fa001268ace2",
   "metadata": {},
   "outputs": [],
   "source": [
    "Map.setCenter()"
   ]
  },
  {
   "cell_type": "markdown",
   "id": "20e4c8f1-42ce-496d-83c9-35fb31f3ca22",
   "metadata": {},
   "source": [
    "Назначение: Устанавливает центр и масштаб карты.\\\n",
    "Описание: Эта функция центрирует карту на заданной широте, долготе и устанавливает уровень увеличения (масштаб). Очень удобна для фокусировки на конкретных точках на карте.\\\n",
    "Пример:"
   ]
  },
  {
   "cell_type": "code",
   "execution_count": null,
   "id": "eb47a684-258d-4ce4-ba5c-746483986e1d",
   "metadata": {},
   "outputs": [],
   "source": [
    "Map.setCenter(37.618423, 55.751244, 10); // Центрирует карту на Москве с уровнем увеличения 10"
   ]
  },
  {
   "cell_type": "markdown",
   "id": "5827a184-9d47-4779-a60f-a16d81fb54c7",
   "metadata": {},
   "source": [
    "Функция"
   ]
  },
  {
   "cell_type": "code",
   "execution_count": null,
   "id": "640aaf5f-ff0d-481f-85df-29570e41457c",
   "metadata": {},
   "outputs": [],
   "source": [
    "Map.addLayer()"
   ]
  },
  {
   "cell_type": "markdown",
   "id": "01c83215-a582-46bc-a8e6-8abb97e81024",
   "metadata": {},
   "source": [
    "Назначение: Добавление слоя данных на карту.\\\n",
    "Описание: позволяет добавить изображение, коллекцию изображений или геометрию в виде слоя на карту. Можно задать параметры визуализации, такие как цветовые каналы, прозрачность и диапазон значений.\\\n",
    "Пример:"
   ]
  },
  {
   "cell_type": "code",
   "execution_count": null,
   "id": "429d00f1-4e95-48c7-8e24-9c1fef3816cb",
   "metadata": {},
   "outputs": [],
   "source": [
    "var landsatImage = ee.ImageCollection('LANDSAT/LC08/C01/T1_SR').median();\n",
    "Map.addLayer(landsatImage, {bands: ['B4', 'B3', 'B2'], min: 0, max: 3000}, 'Landsat 8');"
   ]
  },
  {
   "cell_type": "markdown",
   "id": "540332f0-13b1-4594-8d7a-5994b7ac13c6",
   "metadata": {},
   "source": [
    "Функция"
   ]
  },
  {
   "cell_type": "code",
   "execution_count": null,
   "id": "105840e8-bf61-4089-95da-217ea9f0801f",
   "metadata": {},
   "outputs": [],
   "source": [
    "ee.Image()"
   ]
  },
  {
   "cell_type": "markdown",
   "id": "07535c00-7e13-4e69-b297-a12c8411c6fb",
   "metadata": {},
   "source": [
    "Назначение: Создает объект изображения.\\\n",
    "Описание: В GEE ee.Image() используется для создания объектов изображения, которые представляют собой набор данных, полученных из спутников или других источников. ee.Image содержит каналы (например, красный, зеленый, синий), которые можно использовать для анализа данных.\\\n",
    "Пример:"
   ]
  },
  {
   "cell_type": "code",
   "execution_count": null,
   "id": "3be3ad6b-2c61-4804-83e3-5f5dfaae5cb6",
   "metadata": {},
   "outputs": [],
   "source": [
    "var image = ee.Image('LANDSAT/LC08/C01/T1_SR/LC08_123032_20140515');"
   ]
  },
  {
   "cell_type": "markdown",
   "id": "50211f8d-54b2-44ef-8076-a7cffa0d1499",
   "metadata": {},
   "source": [
    "Функция"
   ]
  },
  {
   "cell_type": "code",
   "execution_count": null,
   "id": "9ab88e0c-a9f0-4dc3-b225-7aabdc2d79f4",
   "metadata": {},
   "outputs": [],
   "source": [
    "ee.ImageCollection()"
   ]
  },
  {
   "cell_type": "markdown",
   "id": "e1eebd0f-447e-415a-aad3-ead91e164d1e",
   "metadata": {},
   "source": [
    "Назначение: Создает коллекцию изображений.\\\n",
    "Описание: ee.ImageCollection() позволяет работать с наборами данных, представляющими временные ряды или набор изображений из одного или нескольких спутников. С помощью методов фильтрации можно ограничить набор данных по дате или по области.\\\n",
    "Пример:"
   ]
  },
  {
   "cell_type": "code",
   "execution_count": null,
   "id": "ffbd90b5-41fe-4e71-9135-97a227fbd4c7",
   "metadata": {},
   "outputs": [],
   "source": [
    "var collection = ee.ImageCollection('COPERNICUS/S2')\n",
    "                 .filterDate('2021-01-01', '2021-12-31');"
   ]
  },
  {
   "cell_type": "markdown",
   "id": "52e25b37-f905-49a2-9fc8-6bc3b07c282d",
   "metadata": {},
   "source": [
    "Функция"
   ]
  },
  {
   "cell_type": "code",
   "execution_count": null,
   "id": "de16498d-fc6c-480b-9749-b1c13cd03db7",
   "metadata": {},
   "outputs": [],
   "source": [
    ".filterDate()"
   ]
  },
  {
   "cell_type": "markdown",
   "id": "03d63c3c-3fd0-4e4a-8877-649a9ad68c37",
   "metadata": {},
   "source": [
    "Назначение: Фильтрует данные по диапазону дат.\\\n",
    "Описание: Функция filterDate() используется для фильтрации данных в ee.ImageCollection() по времени, что полезно при работе с временными рядами и данных за определенные периоды.\\\n",
    "Пример:"
   ]
  },
  {
   "cell_type": "code",
   "execution_count": null,
   "id": "349fbdf9-e306-428b-b9d6-89a17a2d120c",
   "metadata": {},
   "outputs": [],
   "source": [
    "var filteredCollection = collection.filterDate('2021-06-01', '2021-08-31');"
   ]
  },
  {
   "cell_type": "markdown",
   "id": "cfb379b5-415f-435e-9d53-cf4edd0316de",
   "metadata": {},
   "source": [
    "Функция"
   ]
  },
  {
   "cell_type": "code",
   "execution_count": null,
   "id": "af67561c-c15f-4f64-9ae6-5a3b90529165",
   "metadata": {},
   "outputs": [],
   "source": [
    ".filterBounds()"
   ]
  },
  {
   "cell_type": "markdown",
   "id": "4d0342ed-605c-41d7-a111-9a181cf81c3b",
   "metadata": {},
   "source": [
    "Назначение: Фильтрует данные по географической области.\\\n",
    "Описание: filterBounds() позволяет ограничить коллекцию данных по конкретной области интереса, указанной с помощью геометрии (например, точки или полигона). Это полезно для фокусировки на определенной территории.\\\n",
    "Пример:"
   ]
  },
  {
   "cell_type": "code",
   "execution_count": null,
   "id": "2995c650-d10c-48d9-9898-4a53de6ed07e",
   "metadata": {},
   "outputs": [],
   "source": [
    "var point = ee.Geometry.Point([37.618423, 55.751244]);\n",
    "var filteredCollection = collection.filterBounds(point);"
   ]
  },
  {
   "cell_type": "markdown",
   "id": "2d09a42f-b81f-4e6a-a631-7b69f952702f",
   "metadata": {},
   "source": [
    "Функция"
   ]
  },
  {
   "cell_type": "code",
   "execution_count": null,
   "id": "a617365e-1b28-4eab-8be3-ac55ce5c305d",
   "metadata": {},
   "outputs": [],
   "source": [
    "mean() / median()"
   ]
  },
  {
   "cell_type": "markdown",
   "id": "a0da3cce-09c3-4b63-86b6-0a608eb4618e",
   "metadata": {},
   "source": [
    "Назначение: Вычисляет среднее или медианное значение изображений в коллекции.\\\n",
    "Описание: Эти функции объединяют изображения в коллекции, создавая одно изображение, где каждый пиксель представляет собой среднее (или медианное) значение по всем изображениям в коллекции. Это часто используется для снижения шумов или создания усредненных данных.\\\n",
    "Пример:"
   ]
  },
  {
   "cell_type": "code",
   "execution_count": null,
   "id": "3b1a0ebc-0d4a-4094-a6b4-76e9cb028f06",
   "metadata": {},
   "outputs": [],
   "source": [
    "var medianImage = collection.median(); // Создает медианное изображение из коллекции"
   ]
  }
 ],
 "metadata": {
  "kernelspec": {
   "display_name": "Python 3 (ipykernel)",
   "language": "python",
   "name": "python3"
  },
  "language_info": {
   "codemirror_mode": {
    "name": "ipython",
    "version": 3
   },
   "file_extension": ".py",
   "mimetype": "text/x-python",
   "name": "python",
   "nbconvert_exporter": "python",
   "pygments_lexer": "ipython3",
   "version": "3.13.0"
  }
 },
 "nbformat": 4,
 "nbformat_minor": 5
}
